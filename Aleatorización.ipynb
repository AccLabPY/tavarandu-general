{
 "cells": [
  {
   "cell_type": "markdown",
   "id": "6d9f4bac",
   "metadata": {},
   "source": [
    "# Aleatorización Colegios\n",
    "\n",
    "## Parámetros para los bloques: año y zona "
   ]
  },
  {
   "cell_type": "markdown",
   "source": [],
   "metadata": {
    "collapsed": false
   },
   "id": "b7e946ee5168d70c"
  },
  {
   "cell_type": "code",
   "execution_count": null,
   "id": "bb80e547",
   "metadata": {
    "is_executing": true
   },
   "outputs": [],
   "source": [
    "# Importando las bibliotecas\n",
    "import pandas as pd\n",
    "import numpy as np\n",
    "\n",
    "# Carga del dataset \n",
    "df = pd.read_csv('Colegios_Secciones.csv')\n",
    "\n",
    "# Filtrar las filas donde la columna aleatorización tiene el valor \"SI\" \n",
    "df_filtered = df[(df[\"Incluido en la aleatorización\"] == \"SI\")]\n",
    "df_filtered_copy = df_filtered.copy()"
   ]
  },
  {
   "cell_type": "code",
   "execution_count": null,
   "id": "296516d0",
   "metadata": {
    "is_executing": true
   },
   "outputs": [],
   "source": [
    "def stratified_randomization(data, strata_cols, treatment_col, seed_value=10):\n",
    "    # Inicialización de la columna de tratamiento\n",
    "    data[treatment_col] = None\n",
    "    \n",
    "    # Obtener valores únicos para cada estrato\n",
    "    unique_strata = data[strata_cols].drop_duplicates()\n",
    "    \n",
    "    # Iterar sobre cada combinación única de estratos\n",
    "    for _, stratum in unique_strata.iterrows():\n",
    "        mask = (data[strata_cols] == stratum).all(axis=1)\n",
    "        subset = data[mask]\n",
    "        \n",
    "        # Si solo hay una observación en el estrato, asignamos aleatoriamente\n",
    "        if len(subset) == 1:\n",
    "            assignments = [\"no\" if np.random.rand() < 0.5 else \"si\"]\n",
    "        else:\n",
    "            n_control = len(subset) // 2\n",
    "            n_treatment = len(subset) - n_control\n",
    "            assignments = [\"no\"] * n_control + [\"si\"] * n_treatment\n",
    "            np.random.shuffle(assignments)\n",
    "            \n",
    "        data.loc[mask, treatment_col] = assignments\n",
    "        \n",
    "    return data\n",
    "\n",
    "# Especificar las columnas de estrato, acá se puede agregar más estratos en el futuro con más casos\n",
    "strata_columns = ['Institución', 'Año']\n",
    "\n",
    "# Se elige un número de sorteos a realizar en público\n",
    "num_sorteos = 10\n",
    "\n",
    "# Aplicar la aleatorización por bloques, en N sorteos a definir según caso. \n",
    "# Se utiliza como nombre de columna para la asignación el término \"participa\" \n",
    "# que es más fácil de entender en un sorteo en vivo\n",
    "# El valor \"no\" representa el control\n",
    "# El valor \"si\" representa el tratamiento\n",
    "for index in range (1,num_sorteos+1):\n",
    "    print(\"\\n\\nRealizando sorteo # \",index)\n",
    "    seed = np.random.randint(100, 1000)\n",
    "    print(\"La semilla utilizada para este sorteo es: \", seed)\n",
    "    df_randomized = stratified_randomization(df_filtered_copy, strata_columns, 'participa', )\n",
    "    print(df_randomized.loc[:,[\"Institución\",\"Año\",\"Sección\",\"participa\"]])\n"
   ]
  },
  {
   "cell_type": "code",
   "execution_count": null,
   "id": "29a47451",
   "metadata": {},
   "outputs": [],
   "source": []
  }
 ],
 "metadata": {
  "kernelspec": {
   "display_name": "Python 3 (ipykernel)",
   "language": "python",
   "name": "python3"
  },
  "language_info": {
   "codemirror_mode": {
    "name": "ipython",
    "version": 3
   },
   "file_extension": ".py",
   "mimetype": "text/x-python",
   "name": "python",
   "nbconvert_exporter": "python",
   "pygments_lexer": "ipython3",
   "version": "3.11.4"
  }
 },
 "nbformat": 4,
 "nbformat_minor": 5
}
